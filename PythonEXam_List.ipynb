{
 "cells": [
  {
   "cell_type": "code",
   "execution_count": 15,
   "metadata": {},
   "outputs": [
    {
     "name": "stdout",
     "output_type": "stream",
     "text": [
      "11\n",
      "1\n",
      "35\n",
      "[1, 3, 5, 6, 9, 11]\n"
     ]
    }
   ],
   "source": [
    "l=[1,11,3,9,5,6]\n",
    "print(max(l))\n",
    "print(min(l))\n",
    "print(sum(l))\n",
    "#l.sort()\n",
    "print(sorted(l,reverse=False))\n",
    "#print(l)"
   ]
  },
  {
   "cell_type": "code",
   "execution_count": 26,
   "metadata": {},
   "outputs": [
    {
     "name": "stdout",
     "output_type": "stream",
     "text": [
      "[2, 3, 4]\n",
      "[1, 2, 3]\n",
      "[1, 3, 4, 5, 6]\n",
      "[2, 4]\n"
     ]
    }
   ],
   "source": [
    "l=[1,2,3,4,5,6]\n",
    "print(l[1:4])\n",
    "print(l[:-3])\n",
    "del l[1]\n",
    "print(l)\n",
    "del l\n",
    "l0=[1,2,3,4,5,6]\n",
    "l1=[7,8,9,10]\n",
    "l0.extend(l1)\n",
    "x=[1,2,3,4]\n",
    "xx=x[:2]\n",
    "y=[i*2 for i in xx]\n",
    "print(y)\n"
   ]
  },
  {
   "cell_type": "code",
   "execution_count": 34,
   "metadata": {},
   "outputs": [
    {
     "data": {
      "text/plain": [
       "[('At', 85), ('I', 53), ('Br', 35), ('Cl', 17), ('F', 9)]"
      ]
     },
     "execution_count": 34,
     "metadata": {},
     "output_type": "execute_result"
    }
   ],
   "source": [
    "l=[('At', 85), ('Br', 35), ('Cl', 17), ('F', 9), ('I', 53)]\n",
    "#sorted(l,key=lambda e :e[1])\n",
    "#sorted(l,key=lambda e:e[0])\n",
    "sorted(l,key=lambda e :e[1],reverse =True)"
   ]
  },
  {
   "cell_type": "code",
   "execution_count": 38,
   "metadata": {},
   "outputs": [
    {
     "data": {
      "text/plain": [
       "False"
      ]
     },
     "execution_count": 38,
     "metadata": {},
     "output_type": "execute_result"
    }
   ],
   "source": [
    "('Br', 35) in l\n",
    "('Br', 2) in l"
   ]
  },
  {
   "cell_type": "code",
   "execution_count": 48,
   "metadata": {},
   "outputs": [
    {
     "name": "stdout",
     "output_type": "stream",
     "text": [
      "[2, 3, 4, 1, 2, 3]\n",
      "[2, 3, 4, 1, 2, 3, 55]\n",
      "[19, 2, 3, 4, 1, 2, 3, 55]\n"
     ]
    }
   ],
   "source": [
    "y=[2,3,4]\n",
    "x=[1,2,3]\n",
    "y.extend(x)\n",
    "print(y)\n",
    "y.append(55)\n",
    "print(y)\n",
    "y.insert(0,19)\n",
    "print(y)\n",
    "c=[1,2,3,2,4,2,5]\n",
    "c.count(2)\n",
    "c.index(2)\n"
   ]
  },
  {
   "cell_type": "code",
   "execution_count": 52,
   "metadata": {},
   "outputs": [
    {
     "name": "stdout",
     "output_type": "stream",
     "text": [
      "[3, 7, 9, 8]\n",
      "[3, 7, 9]\n",
      "[7, 9]\n"
     ]
    }
   ],
   "source": [
    "xp=[8,9,7,3]\n",
    "xp.reverse()\n",
    "print(xp)\n",
    "xp.pop()\n",
    "print(xp)\n",
    "xp.pop(0)\n",
    "print(xp)"
   ]
  },
  {
   "cell_type": "code",
   "execution_count": 59,
   "metadata": {},
   "outputs": [
    {
     "name": "stdout",
     "output_type": "stream",
     "text": [
      "[0, 1, 2, 3, 4, 5, 6, 7, 8, 9, 10, 11, 12, 13, 14, 15, 16, 17, 18, 19, 20]\n",
      "[2, 5, 8, 11, 14, 17, 20]\n",
      "[1, 8, 27, 64, 125, 216, 343, 512]\n",
      "[1, 8, 27, 64, 125, 216, 343, 512]\n",
      "[-5.0, -4.5, -4.0, -3.5, -3.0, -2.5, -2.0, -1.5, -1.0, -0.5]\n"
     ]
    }
   ],
   "source": [
    "l=list(range(21))\n",
    "print(l)\n",
    "ll=list(range(2,21,3))\n",
    "print(ll)\n",
    "lo=[1,2,3,4,5,6,7,8]\n",
    "lk=[i**3 for i in lo]\n",
    "print(lk)\n",
    "xc=list(map(lambda x:x**3,lo))\n",
    "print(xc)\n",
    "v=[-5+i*0.5 for i in range(10)]\n",
    "print(v)"
   ]
  },
  {
   "cell_type": "code",
   "execution_count": 65,
   "metadata": {},
   "outputs": [
    {
     "name": "stdout",
     "output_type": "stream",
     "text": [
      "[[0, 0, 0, 0, 0, 0], [0, 0, 0, 0, 0, 0], [0, 0, 0, 0, 0, 0], [0, 0, 0, 0, 0, 0], [0, 0, 0, 0, 0, 0], [0, 0, 0, 0, 0, 0], [0, 0, 0, 0, 0, 0], [0, 0, 0, 0, 0, 0]]\n"
     ]
    }
   ],
   "source": [
    "[(x,y) for x in [1,2,3] for y in [3,1,4] if x!=y]\n",
    "c=[[0 for i in range(0,6) ]for j in range(0,8)]\n",
    "print(c)"
   ]
  },
  {
   "cell_type": "code",
   "execution_count": 70,
   "metadata": {},
   "outputs": [
    {
     "name": "stdout",
     "output_type": "stream",
     "text": [
      "89\n",
      "1\n"
     ]
    }
   ],
   "source": [
    "x=iter([89,0])\n",
    "print(next(x))\n",
    "y=iter(range(1,4))\n",
    "print(next(y))"
   ]
  },
  {
   "cell_type": "code",
   "execution_count": 77,
   "metadata": {},
   "outputs": [
    {
     "name": "stdout",
     "output_type": "stream",
     "text": [
      "1 a\n",
      "2 b\n",
      "3 c\n",
      "4 d\n",
      "a a1\n",
      "b b1\n",
      "c c1\n",
      "d d1\n"
     ]
    }
   ],
   "source": [
    "liste=['a','b','c','d']\n",
    "for c , value in enumerate (liste,1):\n",
    "    print(c,value)\n",
    "d=['a1','b1','c1','d1']\n",
    "for a, b in zip(liste,d):\n",
    "    print(a,b)\n",
    "\n"
   ]
  },
  {
   "cell_type": "code",
   "execution_count": 93,
   "metadata": {},
   "outputs": [
    {
     "name": "stdout",
     "output_type": "stream",
     "text": [
      "[1, 4, 9]\n",
      "[[1, 1, 1, 1, 1], [1, 1, 1, 1, 1], [1, 1, 1, 1, 1], [1, 1, 1, 1, 1], [1, 1, 1, 1, 1], [1, 1, 1, 1, 1], [1, 1, 1, 1, 1]]\n",
      "[3, 2, 1]\n"
     ]
    }
   ],
   "source": [
    "from operator import itemgetter,methodcaller\n",
    "liste=[('salima','A',1.9),('yeliz','B',2.3),('Fayza','C',1.7)]\n",
    "#sorted(liste,key=itemgetter(2))\n",
    "#sorted(liste,key=itemgetter(1,2))\n",
    "messages = ['critical!!!', 'hurry!', 'bla bla', 'alabama']\n",
    "sorted(messages,key=methodcaller('count','a'),reverse=True)\n",
    "l=[1,2,3]\n",
    "d=list(map(lambda x:x**2,l))\n",
    "print(d)\n",
    "r=[[1 for i in range(0,5) ]for j in range(7)]\n",
    "print(r)\n",
    "l.reverse()\n",
    "print(l)"
   ]
  }
 ],
 "metadata": {
  "kernelspec": {
   "display_name": "Python 3",
   "language": "python",
   "name": "python3"
  },
  "language_info": {
   "codemirror_mode": {
    "name": "ipython",
    "version": 3
   },
   "file_extension": ".py",
   "mimetype": "text/x-python",
   "name": "python",
   "nbconvert_exporter": "python",
   "pygments_lexer": "ipython3",
   "version": "3.8.3"
  }
 },
 "nbformat": 4,
 "nbformat_minor": 4
}
