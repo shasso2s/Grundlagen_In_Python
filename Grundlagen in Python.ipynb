{
 "cells": [
  {
   "cell_type": "code",
   "execution_count": 196,
   "metadata": {},
   "outputs": [
    {
     "name": "stdout",
     "output_type": "stream",
     "text": [
      "4.0\n",
      "8.0\n",
      "2\n",
      "2\n",
      "4\n",
      "8\n"
     ]
    }
   ],
   "source": [
    "a,b,c,d=2,3,4,8j\n",
    "yourname,yourlastname,right=\"salima\",\"hassouni\",True\n",
    "e=int(a)\n",
    "ee=float(a)\n",
    "eee=str(a)\n",
    "salma=4\n",
    "hasso=8\n",
    "f=complex(salma,hasso)#return a complex zahl a+bj\n",
    "print(f.real)# return real zahl von f\n",
    "print(f.imag)# return imag von f\n",
    "print(e)\n",
    "print(eee)\n",
    "print(salma)\n",
    "print(hasso)\n",
    "\n",
    "\n"
   ]
  },
  {
   "cell_type": "code",
   "execution_count": null,
   "metadata": {},
   "outputs": [],
   "source": []
  },
  {
   "cell_type": "code",
   "execution_count": 200,
   "metadata": {},
   "outputs": [
    {
     "name": "stdout",
     "output_type": "stream",
     "text": [
      "1\n",
      "1\n",
      "False\n",
      "True\n",
      "4\n",
      "4\n",
      "(4, 0)\n",
      "2\n",
      "True\n",
      "False\n"
     ]
    }
   ],
   "source": [
    "c=bool(5.3)#True\n",
    "d=bool(\"salama\")#True\n",
    "e=bool(1)# False\n",
    "ee=bool(\"\")#False\n",
    "a=4\n",
    "b=3\n",
    "print(a//b)#division ohne comma\n",
    "print(a%b)\n",
    "print(12<a<2)#false\n",
    "print(5>a>2)#True\n",
    "print(abs(a))#falls es ist - 4 wird mit abs 4\n",
    "print(int(a))\n",
    "print(divmod(16,4))# kharij l9sma wa ba9i l9isma\n",
    "print(pow(2,1))\n",
    "print(e)\n",
    "print(ee)"
   ]
  },
  {
   "cell_type": "code",
   "execution_count": 82,
   "metadata": {},
   "outputs": [
    {
     "name": "stdout",
     "output_type": "stream",
     "text": [
      "2\n",
      "7.38905609893065\n",
      "0.6931471805599453\n",
      "1.5849625007211563\n",
      "2.1972245773362196\n",
      "0.3010299956639812\n",
      "4.0\n",
      "114.59155902616465\n",
      "0.03490658503988659\n",
      "-0.9899924966004454\n",
      "-0.27941549819892586\n",
      "3.141592653589793\n",
      "2.718281828459045\n",
      "6.283185307179586\n",
      "inf\n",
      "-3.0\n"
     ]
    }
   ],
   "source": [
    "import math as m\n",
    "print(m.factorial(2))\n",
    "print(m.exp(2))\n",
    "print(m.log(2))\n",
    "print(m.log(3,2))# log biasas mo3ayan\n",
    "print(m.log(9))\n",
    "print(m.log10(2))\n",
    "print(m.sqrt(16))\n",
    "print(m.degrees(2))#degrre\n",
    "print(m.radians(2))#radians\n",
    "print(m.cos(3))\n",
    "print(m.sin(6))\n",
    "print(m.pi)\n",
    "print(m.e)\n",
    "print(m.tau)\n",
    "print(m.inf)\n",
    "a=3\n",
    "b=-9\n",
    "l=m.copysign(a,b)# return le a avec le sign , si les deux nombres negative , il return le a avec und sign positive\n",
    "print(l)\n",
    "\n"
   ]
  },
  {
   "cell_type": "code",
   "execution_count": 90,
   "metadata": {},
   "outputs": [
    {
     "name": "stdout",
     "output_type": "stream",
     "text": [
      "9\n",
      "6\n",
      "1.0\n",
      "6.0\n"
     ]
    }
   ],
   "source": [
    "print(m.ceil(8.04))# 9ima ta9ribya\n",
    "print(m.floor(6.7))# 9ima ta9riba a9al\n",
    "print(m.erf(8))#error function\n",
    "print(m.gamma(4))"
   ]
  },
  {
   "cell_type": "code",
   "execution_count": 255,
   "metadata": {},
   "outputs": [
    {
     "name": "stdout",
     "output_type": "stream",
     "text": [
      "m\n",
      "o\n",
      "l\n",
      ",\n",
      "sweethome alabama ,halllosweethome alabama ,halllosweethome alabama ,halllo\n",
      "thome al\n",
      "sweethome al\n",
      "thome alabama ,halllo\n",
      "sweethome alabama ,halllo\n",
      "toea\n",
      "seo\n",
      "eaaao\n",
      "olllah, amabala emoh\n",
      "olllah, amabala emohteews\n",
      "['s', 'w', 'e', 'e', 't', 'h', 'o', 'm', 'e', ' ', 'a', 'l', 'a', 'b', 'a', 'm', 'a', ' ', ',', 'h', 'a', 'l', 'l', 'l', 'o']\n",
      "[' ', ' ', ',', 'a', 'a', 'a', 'a', 'a', 'b', 'e', 'e', 'e', 'h', 'h', 'l', 'l', 'l', 'l', 'm', 'm', 'o', 'o', 's', 't', 'w']\n",
      "{'h', 'e', 'b', 'w', 'o', 'm', 't', ',', ' ', 'a', 's', 'l'}\n",
      "['sweethome ', 'l', 'b', 'm', ' ,h', 'lllo']\n",
      "['123', '478', '6698', '4412', '0366', '']\n",
      "['sweethome alabama ,halllo']\n"
     ]
    }
   ],
   "source": [
    "####################String ################################\n",
    "a=\"sweethome alabama ,halllo\"\n",
    "print(a[7])\n",
    "print(a[-1])\n",
    "print(a[-3])\n",
    "print(a[-7])\n",
    "print(a*3)\n",
    "print(a[4:12])# lettre an der pos 12 wird nicht gezeigt\n",
    "print(a[:12])\n",
    "print(a[4:])\n",
    "print(a[:])\n",
    "print(a[4:12:2])\n",
    "print(a[:7:3])\n",
    "print(a[8::4])\n",
    "print(a[-1:4:-1])\n",
    "print(a[::-1])\n",
    "print(list(a))\n",
    "print(sorted(list(a)))\n",
    "print(set(a))\n",
    "print(a.split(\"a\"))# ila 9samna b a fa a makatbanch f split\n",
    "x = \"12354785669854412503665\"\n",
    "print(x.split(\"5\"))\n",
    "\n",
    "print(a.splitlines())"
   ]
  },
  {
   "cell_type": "code",
   "execution_count": 213,
   "metadata": {},
   "outputs": [
    {
     "name": "stdout",
     "output_type": "stream",
     "text": [
      "('salima  ', 'and', ' hassouni  and she is 28 jahre alt and she  is a  and nice girl')\n",
      "['salima  ', ' hassouni  ', ' she is 28 jahre alt ', ' she  is a  ', ' nice girl']\n",
      "('salima  and hassouni  and she is 28 jahre alt and she  is a  ', 'and', ' nice girl')\n"
     ]
    }
   ],
   "source": [
    "a=\"salima  and hassouni  and she is 28 jahre alt and she  is a  and nice girl\"\n",
    "b=a.partition('and')# partition katkhli and ghir kata9sam 3liha\n",
    "c=a.split('and')# split kattayar and walakin kata9sam 3ndha\n",
    "d=a.rpartition('and') # kata9sam ghir f akhir and wakha tkon and f wal matradch liha lbal\n",
    "print(b)\n",
    "print(c)\n",
    "print(d)"
   ]
  },
  {
   "cell_type": "code",
   "execution_count": 217,
   "metadata": {},
   "outputs": [
    {
     "name": "stdout",
     "output_type": "stream",
     "text": [
      "3\n",
      "21\n"
     ]
    }
   ],
   "source": [
    "a=\"he but isagoodmanbut he is liar\"\n",
    "b=a.find('but')# kaychof b ina pos w kayjib ghir pos dyal awal harf\n",
    "c=a.rfind(\"he\")# hadi kayjib akhir he l9aha\n",
    "# lfar9 mabin a.find w a.rfind hya ana lawla kat3ti awal wahda l 9atha, lpos dyal harf lwl fiha\n",
    "#ama rfind fa hya kata9ti pos dyal akhir wahd a9atha pos dyal awal harf fiha\n",
    "print(b)\n",
    "print(c)"
   ]
  },
  {
   "cell_type": "code",
   "execution_count": 220,
   "metadata": {},
   "outputs": [
    {
     "name": "stdout",
     "output_type": "stream",
     "text": [
      "0\n",
      "ke is A good man buT ke is Liar\n",
      "2\n",
      "He is a good man but he is liar\n",
      "He Is A Good Man But He Is Liar\n",
      "HE IS a GOOD MAN BUt HE IS lIAR\n",
      "         he is A good man buT he is Liar          \n",
      "HE IS A GOOD MAN BUT HE IS LIAR\n"
     ]
    }
   ],
   "source": [
    "a=\"he is A good man buT he is Liar\"\n",
    "b=a.index('h')\n",
    "c=a.replace('h','k')# fin ma 9iti h remplacer par k\n",
    "d=a.count('o')\n",
    "e=a.capitalize()# seulement le premire lettre en capitalize\n",
    "f=a.title()# awal harf en capitalize\n",
    "k=a.upper() #kolha upper\n",
    "g=a.swapcase()# ay harf capita kayrado losercase w l3aks\n",
    "h=a.center(50)\n",
    "print(b)\n",
    "print(c)\n",
    "print(d)\n",
    "print(e)\n",
    "print(f)\n",
    "print(g)\n",
    "print(h)\n",
    "print(k)"
   ]
  },
  {
   "cell_type": "code",
   "execution_count": 239,
   "metadata": {},
   "outputs": [
    {
     "name": "stdout",
     "output_type": "stream",
     "text": [
      "*********he is A good man buT he is Liar**********\n",
      "he is A good man buT he is Liar\n",
      "                             he is A good man buT he is Liar\n",
      "*****************************he is A good man buT he is Liar\n",
      "he is A good man buT he is Liar*****************************\n",
      "00435\n",
      "False\n",
      "he is A good man buT he is Liar\n",
      "he is A good man buT he is Liar\n",
      "a b c \n"
     ]
    }
   ],
   "source": [
    "a=\"he is A good man buT he is Liar\"\n",
    "b=\"he is A good man buT he is Liar\"\n",
    "c=\"he is A good man buT he is Liar\"\n",
    "d=\"he is A good man buT he is Liar\"\n",
    "aa=\"+@%\"\n",
    "j=a.center((50),\"*\")\n",
    "print(j)\n",
    "print(b.ljust(10))\n",
    "print(a.rjust(60))\n",
    "print(a.rjust(60,\"*\"))\n",
    "print(a.ljust(60,\"*\"))\n",
    "print(\"435\".zfill(5))# dir asfar f awal hta majmo3 ar9am ykon 10\n",
    "print(aa.isalpha())#(+@%) false sinon True\n",
    "print(a.lstrip())#معناھا حذف اي مسافات قبل او بعد الكلام\n",
    "print(a.rstrip())#حذف اي مسافة من الشمال بس\n",
    "x=\"ea b c \"\n",
    "print(x.lstrip(\"e\"))# ila kan had herf e f links kayhaydo "
   ]
  },
  {
   "cell_type": "code",
   "execution_count": 256,
   "metadata": {},
   "outputs": [
    {
     "name": "stdout",
     "output_type": "stream",
     "text": [
      "#**abc\n"
     ]
    }
   ],
   "source": [
    "x=\"a#**abc\"\n",
    "print(x.strip(\"a\"))# c a dire enleve tous le promiere caractere que ca soit\n",
    "#une lettre und zeichen"
   ]
  },
  {
   "cell_type": "code",
   "execution_count": 262,
   "metadata": {},
   "outputs": [
    {
     "name": "stdout",
     "output_type": "stream",
     "text": [
      "aaaabbbbb\n",
      "sweet home alabama\n",
      "sweet home 136\n",
      "sweet alabama 136\n",
      "numbers     7\n",
      "numbers 0007\n",
      "Python has 002 qoute types.\n",
      "doesn't\n",
      "doesn't\n",
      " \"Yes,\" he said.\n",
      " 0003\n"
     ]
    }
   ],
   "source": [
    "a = \"sweet \\n home alabama\" #wpres le sweet il retoure en ligne\n",
    "#print(a)\n",
    "b= r'C:\\some\\name' # il garde la structure de phrase comme il est\n",
    "#print(b)\n",
    "c = \"sweet \\t home alabama\"# tabulation apres/t\n",
    "#print(c)\n",
    "\n",
    "e= \"\"\"sweet home\n",
    "if you want in \n",
    "           alabama \"\"\"\n",
    "#print(e)\n",
    "f , g = 'aaaa' , 'bbbbb'\n",
    "print(f,end='')\n",
    "print(g)\n",
    "aaa =\"alabama\"\n",
    "ag = \"sweet home %s\" %aaa\n",
    "print(ag)\n",
    "bbb = 136\n",
    "ab = \"sweet home %d\" %bbb\n",
    "print(ab)\n",
    "ar = \"sweet %s %d\" % ( aaa , bbb)\n",
    "print(ar)\n",
    "a7 = \"numbers %5d\" %7\n",
    "print(a7)\n",
    "a5 = \"numbers %04d\"%7\n",
    "print(a5)\n",
    "apython=\"%s has %03d qoute types.\" %(\"Python\", 2)\n",
    "print(apython)\n",
    "print('doesn\\'t')\n",
    "print(\"doesn't\")\n",
    "print(' \"Yes,\" he said.')\n",
    "f8= \" %04d\" %3\n",
    "print(f8)\n",
    "\n"
   ]
  },
  {
   "cell_type": "code",
   "execution_count": 56,
   "metadata": {},
   "outputs": [
    {
     "name": "stdout",
     "output_type": "stream",
     "text": [
      "True\n",
      "True\n",
      "True\n",
      "True\n",
      "False\n",
      "True\n",
      "one**two**three\n",
      "['8', '2', '2', '3', '1', '6', '2', '4', '2', '1', '0', '8', '6', '3', '1', '3', '5', '4', '3', '1', '7', '2', '0', '7', '4', '2', '5', '2', '6', '5', '0', '6', '1', '2', '2', '7', '0', '4', '8', '2', '3', '3', '7', '5', '9', '8', '4', '1', '5', '5', '6', '9', '9', '8', '0', '9', '3', '4', '1', '6', '5', '0', '9', '8', '6', '5', '6', '5', '3', '1', '2', '0', '4', '2', '6', '1', '0', '4', '4', '8', '5', '3', '0', '2', '5', '1', '0', '0', '0', '6', '8', '0', '3', '7', '5', '0', '4', '9', '4', '8']\n"
     ]
    }
   ],
   "source": [
    "import numpy as np\n",
    "a=\"9\"\n",
    "aa=\"W\"\n",
    "aaa=\"n\"\n",
    "aaaa=\"  Hallo\"\n",
    "aaaaa=\"salima ahssouni 0987\"\n",
    "print(a.isdigit())\n",
    "print(aa.isupper())\n",
    "print(aaa.islower())\n",
    "print(aaaa.istitle())# si le premiere nombre en uppercase\n",
    "print(aaaaa.endswith(\"8\"))\n",
    "print(aaaaa.startswith(\"salima\"))\n",
    "print(\"**\".join((\"one\",\"two\",\"three\")))\n",
    "print([str(i) for i in np.random.randint(10,size=100)])# erstellt liste\n",
    "# von number between 0-9 and mit size 100\n",
    "\n"
   ]
  },
  {
   "cell_type": "code",
   "execution_count": 252,
   "metadata": {},
   "outputs": [
    {
     "name": "stdout",
     "output_type": "stream",
     "text": [
      "the value of  pi is 3.141592653589793\n",
      "90 and blue\n",
      "First:A und  Last:45\n",
      "pi=3.142\n",
      "Im 20 years old\n",
      "|                       Hello                       |\n",
      "#                           salama                           #\n",
      "name                                                         ==>      56322\n"
     ]
    }
   ],
   "source": [
    "print(\"the value of  pi is {}\".format(np.pi))\n",
    "print(\"{0} and {1}\".format(90,'blue'))\n",
    "print(\"First:{first} und  Last:{last}\".format(last=45,first=\"A\"))\n",
    "print(\"pi={0:.3f}\".format(np.pi))\n",
    "print('{:s} {:d} years old'.format('Im',20))\n",
    "print('|' + '{:^51}'.format('Hello') + '|')\n",
    "print(\"#\"+'{:^60}'.format('salama')+'#')\n",
    "print('{0:60} ==> {1:10d}'.format('name', 56322))"
   ]
  },
  {
   "cell_type": "code",
   "execution_count": 253,
   "metadata": {},
   "outputs": [
    {
     "name": "stdout",
     "output_type": "stream",
     "text": [
      "['guido@python.org', 'guido@google.com']\n"
     ]
    }
   ],
   "source": [
    "import re\n",
    "email = re.compile('\\w+@\\w+\\.[a-z]{3}')\n",
    "text = \"To email Guido, try guido@python.org or guido@google.com \"\n",
    "print(email.findall(text))\n",
    "# donne moi tous les mot avant et apres @ avec 3 lettre apres le .\n",
    "\n",
    "\n"
   ]
  },
  {
   "cell_type": "code",
   "execution_count": 83,
   "metadata": {},
   "outputs": [
    {
     "name": "stdout",
     "output_type": "stream",
     "text": [
      "[('guido', 'python', 'org'), ('guido', 'google', 'com')]\n"
     ]
    }
   ],
   "source": [
    "import re\n",
    "text = \"To email Guido, try guido@python.org or guido@google.com \"\n",
    "email3=re.compile(r'([\\w.]+)@(\\w+)\\.([a-z]{3})')\n",
    "h=email3.findall(text)\n",
    "print(h)\n",
    "# donne moi tous les mot avant et apres @ avec 3 lettre apres le .\n",
    "# cette fois si donner sous forme de liste\n"
   ]
  },
  {
   "cell_type": "code",
   "execution_count": 86,
   "metadata": {},
   "outputs": [
    {
     "name": "stdout",
     "output_type": "stream",
     "text": [
      "{'user': 'guido', 'domain': 'python', 'suffix': 'org'}\n"
     ]
    }
   ],
   "source": [
    "import  re\n",
    "text = \"To email Guido, try guido@python.org or guido@google.com \"\n",
    "email4=re.compile(r'(?P<user>[\\w.]+)@(?P<domain>\\w+).(?P<suffix>[a-z]{3})')\n",
    "match=email4.match('guido@python.org')\n",
    "print(match.groupdict())\n"
   ]
  },
  {
   "cell_type": "code",
   "execution_count": 166,
   "metadata": {},
   "outputs": [
    {
     "name": "stdout",
     "output_type": "stream",
     "text": [
      " hallo it is me hallo it is me hallo it is me hallo it is me hallo it is me hallo it is me hallo it is me hallo it is me hallo it is me neu line hallo it is me hallo it is me hallo it is me neu line hallo it is me hallo it is me hallo it is me neu line hallo it is me hallo it is me hallo it is me neu line hallo it is me hallo it is me hallo it is me neu line hallo it is me hallo it is me hallo it is me neu line hallo it is me hallo it is me hallo it is me neu line hallo it is me hallo it is me hallo it is me neu line\n"
     ]
    }
   ],
   "source": [
    "#f=open(\"C:\\\\Users\\\\hasso\\\\OneDrive\\\\Bureau\\\\BARFÖG\\\\note.txt\",'w')#neue file , we will write on it\n",
    "f=open(\"C:\\\\Users\\\\hasso\\\\OneDrive\\\\Bureau\\\\BARFÖG\\\\note.txt\",'a')# behelte immer noch alte datei, and make changement on it\n",
    "f.write(' hallo it is me')\n",
    "f.write(' hallo it is me')\n",
    "f.write(' hallo it is me')\n",
    "f.write(' neu line')\n",
    "f=open(\"C:\\\\Users\\\\hasso\\\\OneDrive\\\\Bureau\\\\BARFÖG\\\\note.txt\",'r')\n",
    "print(f.read())\n",
    "\n",
    "\n",
    "\n",
    "\n",
    "f.close()\n",
    "\n"
   ]
  },
  {
   "cell_type": "code",
   "execution_count": 176,
   "metadata": {},
   "outputs": [
    {
     "name": "stdout",
     "output_type": "stream",
     "text": [
      "C:\\Users\\hasso\\Themen_ML\n",
      "True\n",
      "True\n"
     ]
    }
   ],
   "source": [
    "import os\n",
    "a=os.getcwd()\n",
    "print(a)\n",
    "os.makedirs('C:\\\\Users\\\\hasso\\\\OneDrive\\\\Bureau\\\\BARFÖG\\\\notizen.txt' , exist_ok = True)\n",
    "a = os.path.exists('C:\\\\Users\\\\hasso\\\\OneDrive\\\\Bureau\\\\BARFÖG\\\\notizen.txt')\n",
    "os.makedirs('C:\\\\Users\\\\hasso\\\\OneDrive\\\\Bureau\\\\BARFÖG\\\\notizen1.txt' , exist_ok = True)\n",
    "print(a)\n",
    "b = os.path.exists('C:\\\\Users\\\\hasso\\\\OneDrive\\\\Bureau\\\\BARFÖG\\\\notizen1.txt')\n",
    "print(b)"
   ]
  },
  {
   "cell_type": "code",
   "execution_count": 193,
   "metadata": {},
   "outputs": [
    {
     "data": {
      "text/plain": [
       "'C:\\\\Users\\\\hasso\\\\OneDrive\\\\Bureau\\\\BARFÖG\\\\text.txt\\\\77.txt'"
      ]
     },
     "execution_count": 193,
     "metadata": {},
     "output_type": "execute_result"
    }
   ],
   "source": [
    "import shutil as sh\n",
    "#os.makedirs('C:\\\\Users\\\\hasso\\\\OneDrive\\\\Bureau\\\\BARFÖG\\\\5.xls' , exist_ok = True)\n",
    "#os.makedirs('C:\\\\Users\\\\hasso\\\\OneDrive\\\\Bureau\\\\BARFÖG\\\\text.txt' , exist_ok = True)\n",
    "#sh.copyfile( 'C:\\\\Users\\\\hasso\\\\OneDrive\\\\Bureau\\\\BARFÖG\\\\note.txt', 'C:\\\\Users\\\\hasso\\\\OneDrive\\\\Bureau\\\\BARFÖG\\\\notizen.txt\\\\neu.txt')\n",
    "\n",
    "#sh.copytree('C:\\\\Users\\\\hasso\\\\OneDrive\\\\Bureau\\\\BARFÖG\\\\text.txt' , 'C:\\\\Users\\\\hasso\\\\OneDrive\\\\Bureau\\\\BARFÖG\\\\notizen1.txt\\\\33.txt')\n",
    "\n",
    "sh.move('C:\\\\Users\\\\hasso\\\\OneDrive\\\\Bureau\\\\BARFÖG\\\\notizen.txt' , 'C:\\\\Users\\\\hasso\\\\OneDrive\\\\Bureau\\\\BARFÖG\\\\text.txt\\\\77.txt') \n",
    "\n"
   ]
  },
  {
   "cell_type": "code",
   "execution_count": 26,
   "metadata": {},
   "outputs": [
    {
     "name": "stdout",
     "output_type": "stream",
     "text": [
      "[]\n",
      "[1, 2, 3]\n",
      "la list [1, 2, 3, 'sam', (5+2j)]und [1, 2, 3] contient des nombres different\n",
      "[2, 3, 4, [5, 6]]\n",
      "\n",
      "\n",
      "    la  liste  ['i', ' ', 'l', 'o', 'v', 'e', ' ', 'p', 'y', 't', 'h', 'o', 'n', ' '] est ecris d'une maniere de liste composee\n"
     ]
    }
   ],
   "source": [
    "l=[]\n",
    "print(l)\n",
    "s=[1,2,3]\n",
    "print(s)\n",
    "ss=[1,2,3,\"sam\",5+2j]\n",
    "print(\"la list {0}und {1} contient des nombres different\".format(ss,s))\n",
    "ll=[2,3,4,[5,6]]\n",
    "print(ll)\n",
    "x=list(\"i love python \")\n",
    "print('\\n')\n",
    "print( \"    la  liste  {} est ecris d'une maniere de liste composee\".format(x))\n"
   ]
  },
  {
   "cell_type": "code",
   "execution_count": 41,
   "metadata": {},
   "outputs": [
    {
     "name": "stdout",
     "output_type": "stream",
     "text": [
      "[4, 5]\n",
      "[8, 9, 10, 11, 12, 13, 14]\n",
      "[1, 2, 3, 4, 5, 6, 7, 8, 9, 10, 11, 12, 13, 14]\n"
     ]
    }
   ],
   "source": [
    "s = [ 2 , 3, [ 4 , 5 ] ]\n",
    "print(s[2])\n",
    "x=[1,2,3,4,5,6,7,8,9,10,11,12,13,14]\n",
    "y = x[5:10]\n",
    "yy=x[:7]\n",
    "yyy=x[:-3]\n",
    "xxx=x[7:]\n",
    "yx=x[:]\n",
    "print(xxx)\n",
    "print(yx)\n",
    "\n",
    "\n",
    "\n"
   ]
  },
  {
   "cell_type": "code",
   "execution_count": 71,
   "metadata": {},
   "outputs": [
    {
     "name": "stdout",
     "output_type": "stream",
     "text": [
      "['a', 'b', 'c']\n",
      "[[1, 2, 3]]\n",
      "[1, 2, 3, 4, 'v', 'b', 'e', 'b']\n",
      "[1, 2, 3, 4, 'v', 'b', 'e', 'b', 'a', 'b', 'c']\n",
      "['a', 'b', 'c', 'a', 'b', 'c', 'a', 'b', 'c', 'a', 'b', 'c', 'a', 'b', 'c']\n",
      "2\n",
      "20\n",
      "[2, 4]\n"
     ]
    }
   ],
   "source": [
    "a = ['a', 'b', 'c']\n",
    "n = [1, 2, 3]\n",
    "x = [a, n]#x= [['a', 'b', 'c'], [1, 2, 3]]\n",
    "\n",
    "print(x[0])\n",
    "del x[0]\n",
    "print(x)\n",
    "del x# delete x definitive\n",
    "y=[1,2,3,4,'b','v','b','e','b']\n",
    "y.remove('b')#delete the first b\n",
    "print(y)\n",
    "ss=y+a\n",
    "print(ss)\n",
    "ys=a*5\n",
    "print(ys)\n",
    "print(n[1])\n",
    "df=n[1]*10\n",
    "print(df)\n",
    "xo=[1,2,3,4]\n",
    "b=xo[:2]#[1, 2]\n",
    "bk=b*2# bk=[1, 2, 1, 2]\n",
    "fg=[i*2   for i in b ] #[2, 4]\n",
    "print(fg)\n"
   ]
  },
  {
   "cell_type": "code",
   "execution_count": 89,
   "metadata": {},
   "outputs": [
    {
     "name": "stdout",
     "output_type": "stream",
     "text": [
      "['s', 's', 's', 's', 's', 's', 's', 's', 's', 's', 's', 's', 's', 's', 's', 's', 's', 's', 's', 's', 's', 's', 's', 's', 's', 's', 's', 's', 's', 's', 's', 's', 's', 's', 's', 's', 's', 's', 's', 's', 's', 's', 's', 's', 's', 's', 's', 's', 's', 's', 's', 's', 's', 's', 's', 's', 's', 's', 's', 's', 's', 's', 's', 's', 's', 's', 's', 's', 's', 's', 's', 's', 's', 's', 's', 's', 's', 's', 's', 's', 's', 's', 's', 's', 's', 's', 's', 's', 's', 's', 's', 's', 's', 's', 's', 's', 's', 's', 's', 's']\n",
      "10\n",
      "26\n",
      "9\n",
      "0\n",
      "[0, 1, 2, 3, 4, 7, 9]\n",
      "[9, 7, 4, 3, 2, 1, 0]\n"
     ]
    }
   ],
   "source": [
    "x=['s']*100\n",
    "print(x)\n",
    "xx= [[0]*8] *10 #[0, 0, 0, 0, 0, 0, 0, 0] mais 10 fois\n",
    "print(len(xx))\n",
    "l=[1,2,3,7,4,0,9]\n",
    "print(sum(l))\n",
    "print(max(l))\n",
    "print(min(l))\n",
    "#print(sorted(l))\n",
    "l.sort()\n",
    "print(l)\n",
    "print(sorted(l,reverse=True))"
   ]
  },
  {
   "cell_type": "code",
   "execution_count": 115,
   "metadata": {},
   "outputs": [
    {
     "name": "stdout",
     "output_type": "stream",
     "text": [
      "[('At', 85), ('Br', 35), ('Cl', 17), ('F', 9), ('I', 53)]\n",
      "True\n",
      "[2, 2, 3, 4, 4, 4]\n",
      "[2, 2, 3, 4, 4, 4, 4]\n",
      "[19, 2, 2, 3, 4, 4, 4, 4]\n"
     ]
    },
    {
     "data": {
      "text/plain": [
       "0"
      ]
     },
     "execution_count": 115,
     "metadata": {},
     "output_type": "execute_result"
    }
   ],
   "source": [
    "l=[('At', 85), ('Br', 35), ('Cl', 17), ('F', 9), ('I', 53)]\n",
    "sorted(l,key=lambda e:e[1])\n",
    "sorted(l,reverse=True,key=lambda e:e[0])\n",
    "print(l)\n",
    "print(('Br', 35) in l)\n",
    "y=[2,2,3]\n",
    "x=[4,4,4]\n",
    "y.extend(x)\n",
    "print(y)\n",
    "y.append(4)\n",
    "print(y)\n",
    "y.insert(0,19)\n",
    "print(y)\n",
    "y.count(4)\n",
    "y.index(19)\n",
    "\n"
   ]
  },
  {
   "cell_type": "code",
   "execution_count": 120,
   "metadata": {},
   "outputs": [
    {
     "name": "stdout",
     "output_type": "stream",
     "text": [
      "[3, 7, 9, 8]\n",
      "[3, 7, 9]\n",
      "[7, 9]\n"
     ]
    }
   ],
   "source": [
    "xp=[8,9,7,3]\n",
    "xp.reverse()\n",
    "print(xp)\n",
    "xp.pop()\n",
    "print(xp)\n",
    "xp.pop(0)\n",
    "print(xp)"
   ]
  },
  {
   "cell_type": "code",
   "execution_count": 124,
   "metadata": {},
   "outputs": [
    {
     "name": "stdout",
     "output_type": "stream",
     "text": [
      "[0, 1, 2, 3, 4, 5, 6, 7, 8, 9, 10, 11, 12, 13, 14, 15, 16, 17, 18, 19]\n",
      "[2, 5, 8, 11, 14, 17]\n"
     ]
    }
   ],
   "source": [
    "\n",
    "print(list(range(20)))\n",
    " \n",
    "print(list(range(2,20,3)))"
   ]
  },
  {
   "cell_type": "code",
   "execution_count": 128,
   "metadata": {},
   "outputs": [
    {
     "name": "stdout",
     "output_type": "stream",
     "text": [
      "[0, 1, 8, 27, 64, 125, 216, 343, 512, 729, 1000, 1331]\n"
     ]
    }
   ],
   "source": [
    "y = [ x**3 for x in range(12)]\n",
    "#y = list(map(lambda x : x**3 , range(12)))\n",
    "print(y)"
   ]
  },
  {
   "cell_type": "code",
   "execution_count": 129,
   "metadata": {},
   "outputs": [
    {
     "name": "stdout",
     "output_type": "stream",
     "text": [
      "[-5.0, -4.5, -4.0, -3.5, -3.0, -2.5, -2.0, -1.5, -1.0, -0.5, 0.0, 0.5, 1.0, 1.5, 2.0, 2.5, 3.0, 3.5, 4.0, 4.5]\n"
     ]
    }
   ],
   "source": [
    "ss = [-5 + i*0.5 for i in range(20)]\n",
    "print(ss)"
   ]
  },
  {
   "cell_type": "code",
   "execution_count": 131,
   "metadata": {},
   "outputs": [
    {
     "name": "stdout",
     "output_type": "stream",
     "text": [
      "[(1, 3), (1, 4), (2, 3), (2, 1), (2, 4), (3, 1), (3, 4)]\n"
     ]
    }
   ],
   "source": [
    "f = [(x, y) for x in [1,2,3] for y in [3,1,4] if x != y]\n",
    "print(f)"
   ]
  },
  {
   "cell_type": "code",
   "execution_count": 132,
   "metadata": {},
   "outputs": [
    {
     "name": "stdout",
     "output_type": "stream",
     "text": [
      "[[0, 0, 0, 0, 0], [0, 0, 0, 0, 0], [0, 0, 0, 0, 0], [0, 0, 0, 0, 0], [0, 0, 0, 0, 0], [0, 0, 0, 0, 0], [0, 0, 0, 0, 0]]\n"
     ]
    }
   ],
   "source": [
    " k=[[0 for i in range(5)] for j in range(7)]\n",
    "print(k)"
   ]
  },
  {
   "cell_type": "code",
   "execution_count": 138,
   "metadata": {},
   "outputs": [
    {
     "name": "stdout",
     "output_type": "stream",
     "text": [
      "0\n",
      "1\n"
     ]
    }
   ],
   "source": [
    "#I = iter([2, 4, 6, 8, 10])\n",
    "#print(next(I))\n",
    "#print(next(I))\n",
    "I = iter(range(20))\n",
    "print(next(I))\n",
    "print(next(I))\n"
   ]
  },
  {
   "cell_type": "code",
   "execution_count": 143,
   "metadata": {},
   "outputs": [
    {
     "name": "stdout",
     "output_type": "stream",
     "text": [
      "[1, 2]\n",
      "[6, 9]\n",
      "6\n",
      "9\n"
     ]
    }
   ],
   "source": [
    "x = [1,2]\n",
    "y = x\n",
    "x=[6,9]\n",
    "print(y)\n",
    "print(x)\n",
    "print(x[0])\n",
    "print(x[1])"
   ]
  },
  {
   "cell_type": "code",
   "execution_count": 146,
   "metadata": {},
   "outputs": [
    {
     "name": "stdout",
     "output_type": "stream",
     "text": [
      "1 apple\n",
      "2 banana\n",
      "3 grapes\n",
      "4 pear\n"
     ]
    }
   ],
   "source": [
    "my_list = ['apple', 'banana', 'grapes', 'pear']\n",
    "for c, value in enumerate(my_list, 1):\n",
    "    print(c, value)\n"
   ]
  },
  {
   "cell_type": "code",
   "execution_count": 147,
   "metadata": {},
   "outputs": [
    {
     "name": "stdout",
     "output_type": "stream",
     "text": [
      "a1 b1\n",
      "a2 b2\n",
      "a3 b3\n"
     ]
    }
   ],
   "source": [
    "\n",
    "alist = ['a1', 'a2', 'a3']\n",
    "blist = ['b1', 'b2', 'b3']\n",
    "for a, b in zip(alist, blist):\n",
    "    print (a, b)\n"
   ]
  },
  {
   "cell_type": "code",
   "execution_count": 155,
   "metadata": {},
   "outputs": [
    {
     "name": "stdout",
     "output_type": "stream",
     "text": [
      "[('john', 'A', 15), ('dave', 'B', 10), ('jane', 'B', 12)]\n"
     ]
    }
   ],
   "source": [
    "from operator import itemgetter,methodcaller\n",
    "student_tuples = [('john', 'A', 15),('jane', 'B', 12),('dave', 'B', 10),]\n",
    "#print(sorted( student_tuples, key=itemgetter(2)))\n",
    "print(sorted(student_tuples, key=itemgetter(1,2)))"
   ]
  },
  {
   "cell_type": "code",
   "execution_count": 156,
   "metadata": {},
   "outputs": [
    {
     "name": "stdout",
     "output_type": "stream",
     "text": [
      "['hurry!', 'critical!!!', 'bla bla', 'alabama']\n"
     ]
    }
   ],
   "source": [
    "messages = ['critical!!!', 'hurry!', 'bla bla', 'alabama']\n",
    "print (sorted(messages, key=methodcaller( 'count', 'a')))\n"
   ]
  }
 ],
 "metadata": {
  "kernelspec": {
   "display_name": "Python 3",
   "language": "python",
   "name": "python3"
  },
  "language_info": {
   "codemirror_mode": {
    "name": "ipython",
    "version": 3
   },
   "file_extension": ".py",
   "mimetype": "text/x-python",
   "name": "python",
   "nbconvert_exporter": "python",
   "pygments_lexer": "ipython3",
   "version": "3.8.3"
  }
 },
 "nbformat": 4,
 "nbformat_minor": 4
}
